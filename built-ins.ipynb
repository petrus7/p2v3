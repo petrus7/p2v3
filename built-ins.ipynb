{
 "cells": [
  {
   "cell_type": "markdown",
   "metadata": {},
   "source": [
    "## Trivial ones"
   ]
  },
  {
   "cell_type": "code",
   "execution_count": 120,
   "metadata": {},
   "outputs": [
    {
     "name": "stdout",
     "output_type": "stream",
     "text": [
      "10\n",
      "<class 'int'>\n",
      "XXXXXXXXXXXXXXXXXXXXXX\n",
      "False\n",
      "False\n",
      "True\n",
      "False\n",
      "XXXXXXXXXXXXXXXXXXXXXX\n",
      "True\n",
      "True\n",
      "True\n",
      "False\n",
      "XXXXXXXXXXXXXXXXXXXXXX\n",
      "-0b1010\n",
      "--Return--\n",
      "> <ipython-input-120-5c0eb1e9ba5a>(15)<module>()->None\n",
      "-> breakpoint()\n",
      "(Pdb) c\n",
      "alamakota\n",
      "XXXXXXXXXXXXXXXXXXXXXXX\n",
      "(1+2j)\n",
      "XXXXXXXXXXXXXXXXXXXXXXX\n",
      "True\n",
      "False\n"
     ]
    }
   ],
   "source": [
    "print(abs(-10))\n",
    "print(type(abs(-10)))\n",
    "print(\"XXXXXXXXXXXXXXXXXXXXXX\")\n",
    "print(all([1,2,0,None]))\n",
    "print(all([1,2,0]))\n",
    "print(all([1,2,-10]))\n",
    "print(all([1,2,False]))\n",
    "print(\"XXXXXXXXXXXXXXXXXXXXXX\")\n",
    "print(any([1,2,0,None]))\n",
    "print(any([1,2,0]))\n",
    "print(any([1,2,-10]))\n",
    "print(any([False,0,False, None]))\n",
    "print(\"XXXXXXXXXXXXXXXXXXXXXX\")\n",
    "print(bin(-10))\n",
    "breakpoint()\n",
    "print('alamakota')\n",
    "print(\"XXXXXXXXXXXXXXXXXXXXXXX\")\n",
    "print(complex(1,2))\n",
    "print(\"XXXXXXXXXXXXXXXXXXXXXXX\")\n",
    "\n",
    "class T1(object):\n",
    "    \n",
    "    def __call__(self,x):\n",
    "        print(x)\n",
    "    \n",
    "class T2(object):    \n",
    "    pass\n",
    "    \n",
    "print(callable(T1()))\n",
    "print(callable(T2()))\n",
    "\n"
   ]
  },
  {
   "cell_type": "markdown",
   "metadata": {},
   "source": [
    "## repr and ascii unicode"
   ]
  },
  {
   "cell_type": "code",
   "execution_count": 83,
   "metadata": {},
   "outputs": [
    {
     "name": "stdout",
     "output_type": "stream",
     "text": [
      "['\\xf6', '\\xf6']\n",
      "ö\n",
      "My value is ö: 10\n",
      "<__main__.TestObject2 object at 0x0000017FDB42E240>\n",
      "<__main__.TestObject object at 0x0000017FDB42E278>\n",
      "<__main__.TestObject2 object at 0x0000017FDB42E208>\n"
     ]
    }
   ],
   "source": [
    "class TestObject(object):\n",
    "    \n",
    "    def __init__(self, test_val):\n",
    "        self.test_val = test_val\n",
    "        \n",
    "        \n",
    "    def __str__(self):\n",
    "        return 'My value is ö: {}'.format(self.test_val)\n",
    "    \n",
    "\n",
    "class TestObject2(object):\n",
    "    \n",
    "    def __init__(self, test_val):\n",
    "        self.test_val = test_val\n",
    "        \n",
    "t1 = 'ö'    \n",
    "\n",
    "\n",
    "print(ascii([t1,t1]))\n",
    "print(t1)\n",
    "      \n",
    "print(TestObject(10))\n",
    "print(TestObject2(10))\n",
    "\n",
    "print(ascii(TestObject(10)))\n",
    "print(ascii(TestObject2(10)))\n",
    "\n"
   ]
  },
  {
   "cell_type": "markdown",
   "metadata": {},
   "source": [
    "## bool function on objects\n"
   ]
  },
  {
   "cell_type": "code",
   "execution_count": 85,
   "metadata": {},
   "outputs": [
    {
     "name": "stdout",
     "output_type": "stream",
     "text": [
      "True\n",
      "False\n",
      "False\n",
      "True\n",
      "XXXXXXXXXXXXXXXXXXXX\n",
      "True\n"
     ]
    }
   ],
   "source": [
    "class TObject(object):\n",
    "    \n",
    "    def __init__(self, v):\n",
    "        self.tv = v\n",
    "        \n",
    "        \n",
    "print(bool(1))\n",
    "print(bool(0))\n",
    "print(bool(''))\n",
    "print(bool(' '))\n",
    "print(\"XXXXXXXXXXXXXXXXXXXX\")\n",
    "print(bool(TObject(None)))"
   ]
  },
  {
   "cell_type": "code",
   "execution_count": 86,
   "metadata": {},
   "outputs": [
    {
     "name": "stdout",
     "output_type": "stream",
     "text": [
      "True\n",
      "False\n",
      "False\n",
      "True\n",
      "XXXXXXXXXXXXXXXXXXXX\n",
      "False\n"
     ]
    }
   ],
   "source": [
    "class TObject(object):\n",
    "    \n",
    "    def __init__(self, v):\n",
    "        self.tv = v\n",
    "        \n",
    "    def __bool__(self):\n",
    "        return self.tv is not None\n",
    "        \n",
    "        \n",
    "print(bool(1))\n",
    "print(bool(0))\n",
    "print(bool(''))\n",
    "print(bool(' '))\n",
    "print(\"XXXXXXXXXXXXXXXXXXXX\")\n",
    "print(bool(TObject(None)))"
   ]
  },
  {
   "cell_type": "markdown",
   "metadata": {},
   "source": [
    "## bytearray vs bytes"
   ]
  },
  {
   "cell_type": "code",
   "execution_count": 118,
   "metadata": {},
   "outputs": [
    {
     "name": "stdout",
     "output_type": "stream",
     "text": [
      "1648651089544\n",
      "1648651089544\n",
      "b'aaa'\n"
     ]
    },
    {
     "ename": "AttributeError",
     "evalue": "'bytes' object has no attribute 'append'",
     "output_type": "error",
     "traceback": [
      "\u001b[1;31m---------------------------------------------------------------------------\u001b[0m",
      "\u001b[1;31mAttributeError\u001b[0m                            Traceback (most recent call last)",
      "\u001b[1;32m<ipython-input-118-67905105d872>\u001b[0m in \u001b[0;36m<module>\u001b[1;34m()\u001b[0m\n\u001b[0;32m      6\u001b[0m \u001b[0mb_o\u001b[0m \u001b[1;33m=\u001b[0m \u001b[0mbytes\u001b[0m\u001b[1;33m(\u001b[0m\u001b[1;34m'aaa'\u001b[0m\u001b[1;33m,\u001b[0m \u001b[0mencoding\u001b[0m\u001b[1;33m=\u001b[0m\u001b[1;34m'utf-8'\u001b[0m\u001b[1;33m)\u001b[0m\u001b[1;33m\u001b[0m\u001b[0m\n\u001b[0;32m      7\u001b[0m \u001b[0mprint\u001b[0m\u001b[1;33m(\u001b[0m\u001b[0mb_o\u001b[0m\u001b[1;33m)\u001b[0m\u001b[1;33m\u001b[0m\u001b[0m\n\u001b[1;32m----> 8\u001b[1;33m \u001b[0mb_o\u001b[0m\u001b[1;33m.\u001b[0m\u001b[0mappend\u001b[0m\u001b[1;33m(\u001b[0m\u001b[1;34mb'a'\u001b[0m\u001b[1;33m,\u001b[0m\u001b[1;34mb'b'\u001b[0m\u001b[1;33m)\u001b[0m\u001b[1;33m\u001b[0m\u001b[0m\n\u001b[0m\u001b[0;32m      9\u001b[0m \u001b[0mprint\u001b[0m\u001b[1;33m(\u001b[0m\u001b[0mb_o\u001b[0m\u001b[1;33m)\u001b[0m\u001b[1;33m\u001b[0m\u001b[0m\n",
      "\u001b[1;31mAttributeError\u001b[0m: 'bytes' object has no attribute 'append'"
     ]
    }
   ],
   "source": [
    "b_a = bytearray('aaa', encoding='utf-8')\n",
    "print(id(b_a))\n",
    "b_a.append(ord('a'))\n",
    "print(id(b_a))\n",
    "\n",
    "b_o = bytes('aaa', encoding='utf-8')\n",
    "print(b_o)\n",
    "b_o.append(b'a',b'b')\n",
    "print(b_o)"
   ]
  },
  {
   "cell_type": "code",
   "execution_count": null,
   "metadata": {},
   "outputs": [],
   "source": [
    "## deleting attributes setting attributes"
   ]
  },
  {
   "cell_type": "code",
   "execution_count": 345,
   "metadata": {},
   "outputs": [
    {
     "name": "stdout",
     "output_type": "stream",
     "text": [
      "{'x': 10, 'y': 11}\n",
      "{'x': 10, 'y': 11}\n",
      "{'y': 11, 'x': 15}\n",
      "{'y': 11}\n"
     ]
    }
   ],
   "source": [
    "class T1(object):\n",
    "    \n",
    "    def __init__(self):\n",
    "        self.x = 10\n",
    "        self.y = 11\n",
    "        \n",
    "    def print_data(self):\n",
    "        print(self.x, self.y)\n",
    "        \n",
    "t = T1()\n",
    "print(t.__dict__)\n",
    "print(vars(t))\n",
    "delattr(t, 'x')\n",
    "setattr(t, 'x', 15)\n",
    "print(t.__dict__)\n",
    "del t.x\n",
    "print(t.__dict__)"
   ]
  },
  {
   "cell_type": "code",
   "execution_count": null,
   "metadata": {},
   "outputs": [],
   "source": [
    "## dict initialization"
   ]
  },
  {
   "cell_type": "code",
   "execution_count": 136,
   "metadata": {},
   "outputs": [
    {
     "name": "stdout",
     "output_type": "stream",
     "text": [
      "{'one': 1, 'two': 2, 'three': 3}\n",
      "{2: 'two', 1: 'one', 3: 'three'}\n",
      "{'three': 3, 'one': 1, 'two': 2}\n"
     ]
    }
   ],
   "source": [
    "print(dict(one=1, two=2, three=3))\n",
    "print(dict([(2,'two'), (1,'one'), (3,'three')]))\n",
    "print(dict({'three': 3, 'one': 1, 'two': 2}))"
   ]
  },
  {
   "cell_type": "code",
   "execution_count": null,
   "metadata": {},
   "outputs": [],
   "source": [
    "## dir "
   ]
  },
  {
   "cell_type": "code",
   "execution_count": 139,
   "metadata": {},
   "outputs": [
    {
     "name": "stdout",
     "output_type": "stream",
     "text": [
      "['In', 'Out', 'T1', 'T2', 'TObject', 'TestObject', 'TestObject2', '_', '_12', '_15', '_17', '_90', '_91', '__', '___', '__builtin__', '__builtins__', '__doc__', '__loader__', '__name__', '__package__', '__return__', '__spec__', '_dh', '_i', '_i1', '_i10', '_i100', '_i101', '_i102', '_i103', '_i104', '_i105', '_i106', '_i107', '_i108', '_i109', '_i11', '_i110', '_i111', '_i112', '_i113', '_i114', '_i115', '_i116', '_i117', '_i118', '_i119', '_i12', '_i120', '_i121', '_i122', '_i123', '_i124', '_i125', '_i126', '_i127', '_i128', '_i129', '_i13', '_i130', '_i131', '_i132', '_i133', '_i134', '_i135', '_i136', '_i137', '_i138', '_i139', '_i14', '_i15', '_i16', '_i17', '_i18', '_i19', '_i2', '_i20', '_i21', '_i22', '_i23', '_i24', '_i25', '_i26', '_i27', '_i28', '_i29', '_i3', '_i30', '_i31', '_i32', '_i33', '_i34', '_i35', '_i36', '_i37', '_i38', '_i39', '_i4', '_i40', '_i41', '_i42', '_i43', '_i44', '_i45', '_i46', '_i47', '_i48', '_i49', '_i5', '_i50', '_i51', '_i52', '_i53', '_i54', '_i55', '_i56', '_i57', '_i58', '_i59', '_i6', '_i60', '_i61', '_i62', '_i63', '_i64', '_i65', '_i66', '_i67', '_i68', '_i69', '_i7', '_i70', '_i71', '_i72', '_i73', '_i74', '_i75', '_i76', '_i77', '_i78', '_i79', '_i8', '_i80', '_i81', '_i82', '_i83', '_i84', '_i85', '_i86', '_i87', '_i88', '_i89', '_i9', '_i90', '_i91', '_i92', '_i93', '_i94', '_i95', '_i96', '_i97', '_i98', '_i99', '_ih', '_ii', '_iii', '_oh', 'b_a', 'b_o', 'exit', 'get_ipython', 'quit', 't', 't1', 't_t']\n",
      "XXXXXXXXXXXXXXXXX\n",
      "['__class__', '__delattr__', '__dict__', '__dir__', '__doc__', '__eq__', '__format__', '__ge__', '__getattribute__', '__gt__', '__hash__', '__init__', '__init_subclass__', '__le__', '__lt__', '__module__', '__ne__', '__new__', '__reduce__', '__reduce_ex__', '__repr__', '__setattr__', '__sizeof__', '__str__', '__subclasshook__', '__weakref__', 'print_data']\n"
     ]
    }
   ],
   "source": [
    "print(dir()) # shows all declared and and imported names\n",
    "print(\"XXXXXXXXXXXXXXXXX\")\n",
    "print(dir(T1))"
   ]
  },
  {
   "cell_type": "code",
   "execution_count": 143,
   "metadata": {},
   "outputs": [
    {
     "name": "stdout",
     "output_type": "stream",
     "text": [
      "['__and__', '__class__', '__contains__', '__delattr__', '__dir__', '__doc__', '__eq__', '__format__', '__ge__', '__getattribute__', '__gt__', '__hash__', '__init__', '__init_subclass__', '__iter__', '__le__', '__len__', '__lt__', '__ne__', '__new__', '__or__', '__rand__', '__reduce__', '__reduce_ex__', '__repr__', '__ror__', '__rsub__', '__rxor__', '__setattr__', '__sizeof__', '__str__', '__sub__', '__subclasshook__', '__xor__', 'copy', 'difference', 'intersection', 'isdisjoint', 'issubset', 'issuperset', 'symmetric_difference', 'union']\n"
     ]
    }
   ],
   "source": [
    "frozenset([1,2,3,4,4]) - {1,2,3}\n",
    "print(dir(frozenset({1,2,3})))\n"
   ]
  },
  {
   "cell_type": "code",
   "execution_count": 333,
   "metadata": {},
   "outputs": [
    {
     "name": "stdout",
     "output_type": "stream",
     "text": [
      "5746146398245163577\n",
      "103040666730\n",
      "1785639302956869573\n"
     ]
    }
   ],
   "source": [
    "class T1(object):    \n",
    "    pass\n",
    "\n",
    "class T2(object):    \n",
    "    \n",
    "    def __init__(self,a,b):\n",
    "        self.a = a \n",
    "        self.b = b\n",
    "\n",
    "    def __hash__(self):\n",
    "        return hash(self.a) + hash(self.b)\n",
    "    \n",
    "    \n",
    "print(hash('123'))\n",
    "print(hash(T1()))\n",
    "print(hash(T2(1,'2')))\n"
   ]
  },
  {
   "cell_type": "code",
   "execution_count": 351,
   "metadata": {},
   "outputs": [
    {
     "name": "stdout",
     "output_type": "stream",
     "text": [
      "<class 'list'>\n",
      "<class 'list_iterator'>\n",
      "[False, False, False, False, True, True, True]\n",
      "[(1, 4, 7, 'a'), (2, 5, 8, 'b'), (3, 6, 9, 'c')]\n"
     ]
    }
   ],
   "source": [
    "print(type(list([1])))\n",
    "print(type(iter([1])))\n",
    "\n",
    "def test_range(a, c):\n",
    "   def filter_elems(x):\n",
    "       return a < x < c\n",
    "   return filter_elems\n",
    "\n",
    "f = test_range(5,10)\n",
    "\n",
    "\n",
    "print(list(map(f, [1,2,3,46,7,8,9])))\n",
    "print(list(zip([1,2,3],[4,5,6],[7,8,9],{'a':1,'b':2,'c':3})))\n"
   ]
  }
 ],
 "metadata": {
  "kernelspec": {
   "display_name": "Python 3",
   "language": "python",
   "name": "python3"
  },
  "language_info": {
   "codemirror_mode": {
    "name": "ipython",
    "version": 3
   },
   "file_extension": ".py",
   "mimetype": "text/x-python",
   "name": "python",
   "nbconvert_exporter": "python",
   "pygments_lexer": "ipython3",
   "version": "3.7.0"
  }
 },
 "nbformat": 4,
 "nbformat_minor": 2
}
