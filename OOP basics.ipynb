{
 "cells": [
  {
   "cell_type": "markdown",
   "metadata": {},
   "source": [
    "# OOP\n",
    "\n",
    "## Fetaures covered in notebook:\n",
    "\n",
    "- Object vs Class\n",
    "- method types (python way)\n",
    "- Encapsulation\n",
    "- Inheritance\n",
    "- Polymorphism \n",
    "\n",
    "\n",
    "\n",
    "## Class vs Object\n",
    "\n",
    "Class is a definition is it is some kind of template to produce concrete examples of its existance. It is something which defines logic. It can keep some state common for whole class (in context of all its instances)\n",
    "\n",
    "Object is a instance of class it performs definied logic. \n",
    "\n",
    "\n"
   ]
  },
  {
   "cell_type": "markdown",
   "metadata": {},
   "source": [
    "## Methods types in python:\n",
    " - instance method: it is method available from instance level. It is independent between instances, has access to instance AND class state\n",
    " - class method: this method cann be called from instance or class level has access to class state\n",
    " - static method: this method is available from class level has acces neiher class nor instance state"
   ]
  },
  {
   "cell_type": "code",
   "execution_count": 176,
   "metadata": {},
   "outputs": [
    {
     "name": "stdout",
     "output_type": "stream",
     "text": [
      "<__main__.TestClass object at 0x000002249D0843C8> an instance method\n",
      "<class '__main__.TestClass'> an class method\n",
      "static method\n",
      "static method\n",
      "<class '__main__.TestClass'> an class method\n",
      "cant do this\n",
      "Notice object and class words in printed output\n"
     ]
    }
   ],
   "source": [
    "class TestClass(object):\n",
    "    \n",
    "    def instance_method(self):\n",
    "        print(self, 'an instance method')\n",
    "    \n",
    "    @classmethod\n",
    "    def class_method(cls):\n",
    "        print(cls, 'an class method')\n",
    "        \n",
    "    @staticmethod\n",
    "    def static_method():\n",
    "        print('static method')\n",
    "        \n",
    "test_o = TestClass()\n",
    "\n",
    "test_o.instance_method()\n",
    "test_o.class_method()\n",
    "test_o.static_method()\n",
    "\n",
    "\n",
    "\n",
    "TestClass.static_method()\n",
    "TestClass.class_method()\n",
    "try:\n",
    "    TestClass.instance_method()\n",
    "except:\n",
    "    print('cant do this')    \n",
    "\n",
    "print('Notice object and class words in printed output')"
   ]
  },
  {
   "cell_type": "code",
   "execution_count": 180,
   "metadata": {},
   "outputs": [
    {
     "name": "stdout",
     "output_type": "stream",
     "text": [
      "Zoo is cool!\n",
      "Director: John Doe, animals: ['lion', 'monkey']\n",
      "Director: John Doe, animals: ['dolphin', 'tiger']\n",
      "Director: Peggy Sue, animals: ['lion', 'monkey']\n",
      "Director: Peggy Sue, animals: ['dolphin', 'tiger']\n"
     ]
    }
   ],
   "source": [
    "# another example\n",
    "\n",
    "class Zoo(object):\n",
    "    \n",
    "    all_zoos_director = 'John Doe'\n",
    "    \n",
    "    def __init__(self, animals:list):\n",
    "        self.animals = animals\n",
    "    \n",
    "    #This allows string serialisation of object in python\n",
    "    def __str__(self):\n",
    "        return f'Director: {self.all_zoos_director}, animals: {self.animals}'\n",
    "        \n",
    "    @classmethod\n",
    "    def change_director(cls):\n",
    "        cls.all_zoos_director = 'Peggy Sue'\n",
    "        \n",
    "    @classmethod    \n",
    "    def zoo_factory(cls, animals:list):\n",
    "        return cls(animals)\n",
    "    \n",
    "    @staticmethod\n",
    "    def show_advertisement():\n",
    "        print('Zoo is cool!')\n",
    "        \n",
    "Zoo.show_advertisement()\n",
    "\n",
    "z_ny = Zoo(['lion','monkey'])\n",
    "z_la = Zoo.zoo_factory(['dolphin','tiger'])\n",
    "print(z_ny)\n",
    "print(z_la)\n",
    "Zoo.change_director()\n",
    "print(z_ny)\n",
    "print(z_la)\n"
   ]
  },
  {
   "cell_type": "markdown",
   "metadata": {},
   "source": [
    "## Encapsulation\n",
    "\n",
    "Hiding implementation and not alowing to change object state outside the box.\n",
    "\n",
    "Here is an simple example. We have animal which is hungry and need to eat. Then Feeder class implements logic of feedeng animals. But feeder does not care about food. What if animal cannot eat meat or something like that\n",
    "State of object was changed besides its business logic. That is something we want to avoid "
   ]
  },
  {
   "cell_type": "code",
   "execution_count": 20,
   "metadata": {},
   "outputs": [
    {
     "name": "stdout",
     "output_type": "stream",
     "text": [
      "My animal is hungry False\n"
     ]
    }
   ],
   "source": [
    "\n",
    "from enum import Enum\n",
    "\n",
    "class FoodEnum(Enum):\n",
    "    \n",
    "    MEAT = 'meat'\n",
    "    VEGETABLES = 'vegetables'\n",
    "    \n",
    "\n",
    "class AnimalTypeEnum(Enum):\n",
    "    \n",
    "    PREDATOR = 'predator'\n",
    "    HERBIVORUS = 'herbivorus'\n",
    "\n",
    "\n",
    "class Animal(object):\n",
    "    \n",
    "    def __init__(self, animal_type: AnimalTypeEnum):\n",
    "        self.hungry = True\n",
    "        self.type = animal_type        \n",
    "        \n",
    "        \n",
    "    def eat(self, food: FoodEnum):\n",
    "        if (food == FoodEnum.MEAT and self.type == AnimalTypeEnum.PREDATOR) or (food == FoodEnum.VEGETABLES and self.type == AnimalTypeEnum.HERBIVORUS):\n",
    "            self.hungry = False            \n",
    "        \n",
    "    def is_hungry(self):\n",
    "        return self.hungry\n",
    "\n",
    "    \n",
    "class Feeder(object):\n",
    "    \n",
    "    def __init__(self, animal: Animal):\n",
    "        self.animal = animal\n",
    "        \n",
    "\n",
    "    def feed(self, food: FoodEnum):\n",
    "        if self.animal.is_hungry():\n",
    "            self.animal.hungry = False\n",
    "    \n",
    "    def is_animal_hungry(self):\n",
    "        print(f'My animal is hungry {self.animal.is_hungry()}')\n",
    "                \n",
    "        \n",
    "        \n",
    "\n",
    "lion = Animal(AnimalTypeEnum.PREDATOR)\n",
    "zoo_staff = Feeder(a)\n",
    "zoo_staff.feed(FoodEnum.VEGETABLES)\n",
    "zoo_staff.is_animal_hungry() # yup we fed lion with plants :(\n",
    "\n"
   ]
  },
  {
   "cell_type": "code",
   "execution_count": null,
   "metadata": {},
   "outputs": [],
   "source": [
    "## Case B we do not allow to mess with inside oobject state"
   ]
  },
  {
   "cell_type": "code",
   "execution_count": 28,
   "metadata": {},
   "outputs": [
    {
     "name": "stdout",
     "output_type": "stream",
     "text": [
      "FoodEnum.VEGETABLES\n",
      "My animal is hungry True\n",
      "FoodEnum.MEAT\n",
      "My animal is hungry False\n"
     ]
    }
   ],
   "source": [
    "from enum import Enum\n",
    "\n",
    "class FoodEnum(Enum):\n",
    "    \n",
    "    MEAT = 'meat'\n",
    "    VEGETABLES = 'vegetables'\n",
    "    \n",
    "\n",
    "class AnimalTypeEnum(Enum):\n",
    "    \n",
    "    PREDATOR = 'predator'\n",
    "    HERBIVORUS = 'herbivorus'\n",
    "\n",
    "\n",
    "class Animal(object):\n",
    "    \n",
    "    def __init__(self, animal_type: AnimalTypeEnum):\n",
    "        self.__hungry = True\n",
    "        self.__type = animal_type        \n",
    "        \n",
    "        \n",
    "    def eat(self, food: FoodEnum):        \n",
    "        if (food == FoodEnum.MEAT and self.__type == AnimalTypeEnum.PREDATOR) or (food == FoodEnum.VEGETABLES and self.__type == AnimalTypeEnum.HERBIVORUS):\n",
    "            self.__hungry = False            \n",
    "        \n",
    "    def is_hungry(self):\n",
    "        return self.__hungry\n",
    "\n",
    "    \n",
    "class Feeder(object):\n",
    "    \n",
    "    def __init__(self, animal: Animal):\n",
    "        self.animal = animal\n",
    "        \n",
    "\n",
    "    def feed(self, food: FoodEnum):\n",
    "        if self.animal.is_hungry():\n",
    "            self.animal.eat(food)\n",
    "    \n",
    "    def is_animal_hungry(self):\n",
    "        print(f'My animal is hungry {self.animal.is_hungry()}')\n",
    "        \n",
    "        \n",
    "lion = Animal(AnimalTypeEnum.PREDATOR)\n",
    "zoo_staff = Feeder(lion)\n",
    "zoo_staff.feed(FoodEnum.VEGETABLES)\n",
    "zoo_staff.is_animal_hungry() # lion is still hungry :)\n",
    "\n",
    "zoo_staff.feed(FoodEnum.MEAT)\n",
    "zoo_staff.is_animal_hungry() # not now\n"
   ]
  },
  {
   "cell_type": "markdown",
   "metadata": {},
   "source": [
    "## Case C\n",
    "\n",
    "Do not follow above rule in every case. Lets imagine class which will agregate bunch of input params. \n",
    "It only keeps data well structurized and does not perform any logic. Writing methods to set and get those data is pointless"
   ]
  },
  {
   "cell_type": "code",
   "execution_count": 31,
   "metadata": {},
   "outputs": [],
   "source": [
    "class ZooDataBucket(object):\n",
    "    \n",
    "    def __init__(self, name, hours:range):\n",
    "        self.open_hours = hours\n",
    "        self.zoo_name = name\n",
    "    \n"
   ]
  },
  {
   "cell_type": "markdown",
   "metadata": {},
   "source": [
    "# Summary\n",
    "\n",
    "In python world there is minimum of key words. To mark class field which is not available outside class we use \"__\" :\n",
    "    \n",
    "    - __ means private field\n",
    "    - _ means protected field (see inheritance)\n",
    "    - no underscore is public field\n",
    " \n",
    "Same rule applys to methods  \n",
    "    \n"
   ]
  },
  {
   "cell_type": "markdown",
   "metadata": {},
   "source": [
    "# Inheritance\n",
    "\n",
    "This mechanism allow us to avoid code repetition, and change business logic in easy way deeper in inheritance tree. The point here is to make proper design:\n",
    "    - think what common properties or behavior your object will have.\n",
    "    - all this common stuff write in one class then use it again in derived classes"
   ]
  },
  {
   "cell_type": "code",
   "execution_count": 182,
   "metadata": {},
   "outputs": [
    {
     "name": "stdout",
     "output_type": "stream",
     "text": [
      "im running\n",
      "Hau Hau!\n",
      "im running\n",
      "Im sleeping\n",
      "i cant run i can swim\n",
      "not now\n"
     ]
    }
   ],
   "source": [
    "import random\n",
    "\n",
    "class FoodEnum(Enum):\n",
    "    \n",
    "    MEAT = 'meat'\n",
    "    VEGETABLES = 'vegetables'\n",
    "    \n",
    "\n",
    "class AnimalTypeEnum(Enum):\n",
    "    \n",
    "    PREDATOR = 'predator'\n",
    "    HERBIVORUS = 'herbivorus'\n",
    "\n",
    "\n",
    "class Animal(object):\n",
    "    \n",
    "    def __init__(self, animal_type: AnimalTypeEnum, name: str):\n",
    "        self._hungry = True\n",
    "        self._type = animal_type        \n",
    "        self._name = name\n",
    "        \n",
    "    def run(self):\n",
    "        if not self._make_lazy():\n",
    "            print(\"im running\")\n",
    "        else:\n",
    "            print(\"im too lazy ill walk\")\n",
    "            \n",
    "    \"\"\"This method is protected it will be available in derived classes but is not available outside the class\"\"\"    \n",
    "    def _make_lazy(self):\n",
    "        return random.randint(1,10) > 5    \n",
    "            \n",
    "    def eat(self, food: FoodEnum):        \n",
    "        if (food == FoodEnum.MEAT and self._type == AnimalTypeEnum.PREDATOR) or (food == FoodEnum.VEGETABLES and self._type == AnimalTypeEnum.HERBIVORUS):\n",
    "            self._hungry = False    \n",
    "        \n",
    "    def is_hungry(self):\n",
    "        return self._hungry\n",
    "    \n",
    "\n",
    "    \n",
    "\"\"\"implementing another logic in derived more specific classes\"\"\"\n",
    "    \n",
    "class Dog(Animal):\n",
    "    \n",
    "    \n",
    "    def bark(self):\n",
    "        print(\"Hau Hau!\")\n",
    "        \n",
    "class Cat(Animal):\n",
    "    \n",
    "    def sleep(Animal):\n",
    "        print(\"Im sleeping\")\n",
    "        \n",
    "class Shark(Animal):\n",
    "    \n",
    "    def hunt_human(self):\n",
    "        if not self._make_lazy():\n",
    "            print(\"im chasing you!\")\n",
    "        else:\n",
    "            print(\"not now\")\n",
    "\n",
    "    \"\"\"Here we eaisly change business logic in derived class\"\"\"        \n",
    "    def run(self):        \n",
    "        print(\"i cant run i can swim\")\n",
    "        \n",
    "dog = Dog(AnimalTypeEnum.HERBIVORUS, 'Misiek')\n",
    "cat = Cat(AnimalTypeEnum.HERBIVORUS, 'Mruczek')\n",
    "shark = Shark(AnimalTypeEnum.HERBIVORUS, 'Glodus')\n",
    "\n",
    "dog.run()\n",
    "dog.bark()\n",
    "cat.run()\n",
    "cat.sleep()\n",
    "shark.run()\n",
    "shark.hunt_human()\n"
   ]
  },
  {
   "cell_type": "markdown",
   "metadata": {},
   "source": [
    "# Summary\n",
    "\n",
    "in python  protected methods and fields are only convention. use _ to code clarity but you still can call them outside the box.\n",
    "private methods and fields cannot be even inherited. They are available only inside class where are definied"
   ]
  },
  {
   "cell_type": "markdown",
   "metadata": {},
   "source": [
    "# Polymorphism\n",
    "\n",
    "This mechanism allows us to use different objects from class hierarchy in the same way. Implementation of concrete tasks is hidden but we are sure we can perform them anyway. Decision which  implementation should be run is done durring execution time\n"
   ]
  },
  {
   "cell_type": "code",
   "execution_count": 190,
   "metadata": {},
   "outputs": [
    {
     "name": "stdout",
     "output_type": "stream",
     "text": [
      "<class '__main__.Lion'> \n",
      " im eating deer\n",
      "<class '__main__.Shark'> \n",
      " im eating human\n",
      "XXXXXXXXXXXXXXXXXXXXXXXXXXXXXXXXXXXXX\n",
      "To eat i need to hunt. Im hunting deer\n",
      "To eat i need to hunt. Im hunting human\n"
     ]
    }
   ],
   "source": [
    "\n",
    "class Zoo(object):\n",
    "    \n",
    "    all_zoos_director = 'John Doe'\n",
    "    \n",
    "    def __init__(self, animals:list):\n",
    "        self.animals = animals\n",
    "    \n",
    "    def __str__(self):\n",
    "        return f'Director: {self.all_zoos_director}, animals: {self.animals}'\n",
    "        \n",
    "    @classmethod    \n",
    "    def zoo_factory(cls, animals:list):\n",
    "        return cls(animals)\n",
    "    \n",
    "    def feeding_time(self):\n",
    "        for animal in self.animals:\n",
    "            print(animal.eat())\n",
    "            \n",
    "\n",
    "class Animal(object):\n",
    "            \n",
    "    def eat(self):  \n",
    "        return f'{type(self)} \\n im imaginary animal. i cant eat'\n",
    "            \n",
    "class Lion(Animal):\n",
    "    \n",
    "    def eat(self):\n",
    "        return f'{type(self)} \\n im eating deer'\n",
    "        \n",
    "class Shark(Animal):\n",
    "    \n",
    "    def eat(self):\n",
    "        return f'{type(self)} \\n im eating human'\n",
    "        \n",
    "\n",
    "z_ny = Zoo.zoo_factory([Lion(), Shark()])\n",
    "z_ny.feeding_time()\n",
    "\n",
    "# If there is common code for all derived classes we can move it to parent class then call parent method inside derived one\n",
    "print('XXXXXXXXXXXXXXXXXXXXXXXXXXXXXXXXXXXXX')\n",
    "\n",
    "class Animal(object):\n",
    "            \n",
    "    def eat(self):  \n",
    "        return 'To eat i need to hunt. '\n",
    "            \n",
    "class Lion(Animal):\n",
    "    \n",
    "    def eat(self):\n",
    "        return super(Lion, self).eat() + 'Im hunting deer'\n",
    "        \n",
    "class Shark(Animal):\n",
    "    \n",
    "    def eat(self):\n",
    "        return super(Shark, self).eat() + 'Im hunting human'\n",
    "    \n",
    "z_ny = Zoo.zoo_factory([Lion(), Shark()])\n",
    "z_ny.feeding_time()"
   ]
  }
 ],
 "metadata": {
  "kernelspec": {
   "display_name": "Python 3",
   "language": "python",
   "name": "python3"
  },
  "language_info": {
   "codemirror_mode": {
    "name": "ipython",
    "version": 3
   },
   "file_extension": ".py",
   "mimetype": "text/x-python",
   "name": "python",
   "nbconvert_exporter": "python",
   "pygments_lexer": "ipython3",
   "version": "3.7.0"
  }
 },
 "nbformat": 4,
 "nbformat_minor": 2
}
