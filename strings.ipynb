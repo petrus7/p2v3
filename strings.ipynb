{
 "cells": [
  {
   "cell_type": "code",
   "execution_count": null,
   "metadata": {},
   "outputs": [],
   "source": [
    "## encoding decoding strings"
   ]
  },
  {
   "cell_type": "code",
   "execution_count": 69,
   "metadata": {},
   "outputs": [
    {
     "name": "stdout",
     "output_type": "stream",
     "text": [
      "alaÿ\n",
      "ala\n",
      "b'ala\\xc3\\xbf\\xe6\\xb1\\xa1\\xeb\\xbd\\xa1'\n",
      "ala\n",
      "ala¿\n"
     ]
    }
   ],
   "source": [
    "print('ala' + chr(255))\n",
    "print(str(b'ala', encoding='utf-8'))  #bytes can only contains unicode chars\n",
    "print('alaÿ污뽡'.encode('utf-8'))   #non ascii chars escaped to according to encoding\n",
    "print(b'ala\\xbf'.decode('utf-8', errors='ignore'))  # we ignore improper bytes for utf-8 formatting \n",
    "print(b'ala\\xbf'.decode('latin-1')) \n"
   ]
  },
  {
   "cell_type": "code",
   "execution_count": null,
   "metadata": {},
   "outputs": [],
   "source": [
    "# string methods examples"
   ]
  },
  {
   "cell_type": "code",
   "execution_count": 95,
   "metadata": {},
   "outputs": [
    {
     "name": "stdout",
     "output_type": "stream",
     "text": [
      "Zazółć gęślą\tjaźńß\n",
      "zazółć gęślą\tjaźńss\n",
      "_zazółć Gęślą\tJaźńß_\n",
      "0\n",
      "1\n",
      "False\n",
      "True\n",
      "zazółć Gęślą Jaźńß\n",
      "-1\n",
      "0\n",
      "substring not found\n",
      "0\n",
      "False\n",
      "False\n",
      "False\n",
      "False\n",
      "False\n",
      "False\n",
      "False\n",
      "False\n",
      "False\n",
      "False\n",
      "alazazółć Gęślą\tJaźńßmazazółć Gęślą\tJaźńßkota\n",
      "zazółć Gęślą\tJaźńß  \n",
      "zazółć gęślą\tjaźńß\n",
      "zazółć Gęślą\tJaźńß\n",
      "('zazółć Gęślą\\tJa', 'ź', 'ńß')\n",
      "zazółć Gęślą\tJaźńß\n"
     ]
    }
   ],
   "source": [
    "test_str = 'zazółć Gęślą\\tJaźńß'\n",
    "length = len(test_str)\n",
    "print(test_str.capitalize())  \n",
    "print(test_str.casefold()) # replaces strange chars and lowercase\n",
    "print(test_str.center(length + 2,'_')) #fils overlaping space with given char\n",
    "print(test_str.count('za', 0, 1)) #search for non overlaping substrings start, end optional\n",
    "print(test_str.count('za'))\n",
    "print(test_str.endswith('ß',0,1))\n",
    "print(test_str.endswith('ß'))\n",
    "print(test_str.expandtabs(1)) # changes tabs on spaces (given count)\n",
    "print(test_str.find('za',2,6)) #looks for substring -1 if not found. has r version\n",
    "print(test_str.find('za'))\n",
    "try:\n",
    "    print(test_str.index('za',2,6)) #like find but with exception. has r version\n",
    "except ValueError as e:\n",
    "        print(e)\n",
    "print(test_str.index('za')) \n",
    "print(test_str.isascii()) #self explanatory\n",
    "print(test_str.isdecimal()) #self explanatory\n",
    "print(test_str.isdigit()) #self explanatory\n",
    "print(test_str.isidentifier()) #cheks if string is id in given language\n",
    "print(test_str.islower()) #self explanatory\n",
    "print(test_str.isnumeric()) #self explanatory\n",
    "print(test_str.isspace()) #self explanatory\n",
    "print(test_str.isprintable()) #checks if string contains special chars froma ascii table\n",
    "print(test_str.istitle()) #self explanatory\n",
    "print(test_str.isupper()) #self explanatory\n",
    "print(test_str.join(['ala', 'ma', 'kota'])) #it joins every elem in table with string\n",
    "print(test_str.ljust(length + 2)) #like center but on left side. has r version\n",
    "print(test_str.lower()) #self explanatory\n",
    "print(test_str.lstrip()) #self explanatory. has r version\n",
    "print(test_str.partition('ź')) # makes tuple with separator part before and part after. has r version \n",
    "print(test_str.strip()) # removes whitespaces\n",
    "# more ind cocumentation\n",
    "\n",
    "\n"
   ]
  },
  {
   "cell_type": "markdown",
   "metadata": {},
   "source": [
    "## printf-style formating\n",
    "\n",
    "this kind of rormating strings is quicker but less intuiitive\n",
    "\n",
    "Hera are rules:\n",
    "\n",
    "1. The '%' character, which marks the start of the specifier.\n",
    "2. Mapping key (optional), consisting of a parenthesised sequence of characters (for example, (somename)).\n",
    "3. Conversion flags (optional), which affect the result of some conversion types.\n",
    "4. Minimum field width (optional). If specified as an '*' (asterisk), the actual width is read from the next element of the tuple in values, and the object to convert comes after the minimum field width and optional precision.\n",
    "5. Precision (optional), given as a '.' (dot) followed by the precision. If specified as '*' (an asterisk), the actual precision is read from the next element of the tuple in values, and the value to convert comes after the precision.\n",
    "Length modifier (optional).\n",
    "6. Conversion type."
   ]
  },
  {
   "cell_type": "code",
   "execution_count": 97,
   "metadata": {},
   "outputs": [
    {
     "name": "stdout",
     "output_type": "stream",
     "text": [
      "Python has 002 quote types.\n"
     ]
    }
   ],
   "source": [
    "print('%(language)s has %(number)03d quote types.' % {'language': \"Python\", \"number\": 2})"
   ]
  },
  {
   "cell_type": "markdown",
   "metadata": {},
   "source": [
    "The conversion flag characters are:\n",
    "\n",
    "Flag\tMeaning\n",
    "'#'\t    The value conversion will use the “alternate form” (where defined below).\n",
    "'0'\t    The conversion will be zero padded for numeric values.\n",
    "'-'\t    The converted value is left adjusted (overrides the '0' conversion if both are given).\n",
    "' '\t    (a space) A blank should be left before a positive number (or empty string) produced by a signed conversion.\n",
    "'+'\t    A sign character ('+' or '-') will precede the conversion (overrides a “space” flag).\n",
    "\n",
    "\n",
    "\n",
    "\n",
    "Conversion\tMeaning\n",
    "'d'\t        Signed integer decimal.\t \n",
    "'i'\t        Signed integer decimal.\t \n",
    "'o'\t        Signed octal value.\t\n",
    "'u'\t        Obsolete type – it is identical to 'd'.\t\n",
    "'x'\t        Signed hexadecimal (lowercase).\t\n",
    "'X'\t        Signed hexadecimal (uppercase).\t\n",
    "'e'\t        Floating point exponential format (lowercase).\t\n",
    "'E'\t        Floating point exponential format (uppercase).\t\n",
    "'f'\t        Floating point decimal format.\t\n",
    "'F'\t        Floating point decimal format.\t\n",
    "'g'\t        Floating point format. Uses lowercase exponential format if exponent is less than -4 or not less than precision,                 decimal format otherwise.\t\n",
    "'G'\t        Floating point format. Uses uppercase exponential format if exponent is less than -4 or not less than precision,                 decimal format otherwise.\t\n",
    "'c'\t        Single character (accepts integer or single character string).\t \n",
    "'r'\t        String (converts any Python object using repr()).\t\n",
    "'s'\t        String (converts any Python object using str()).\t\n",
    "'a'\t        String (converts any Python object using ascii()).\t\n",
    "'%'\t        No argument is converted, results in a '%' character in the result."
   ]
  },
  {
   "cell_type": "markdown",
   "metadata": {},
   "source": [
    "## using str.format()"
   ]
  },
  {
   "cell_type": "code",
   "execution_count": 116,
   "metadata": {},
   "outputs": [
    {
     "name": "stdout",
     "output_type": "stream",
     "text": [
      "ala ma kota, który jest (0, 0, 0)\n",
      "ala ma (0, 0, 0), który jest kota\n",
      "ala ma kota, który jest (0, 0, 0)\n"
     ]
    }
   ],
   "source": [
    "print('ala ma {pet}, który jest {color}'.format(pet='kota', color=(0,0,0)))\n",
    "print('ala ma {1}, który jest {0}'.format('kota', (0,0,0)))\n",
    "print('ala ma {}, który jest {}'.format('kota', (0,0,0)))"
   ]
  },
  {
   "cell_type": "code",
   "execution_count": null,
   "metadata": {},
   "outputs": [],
   "source": [
    "## f-string formattin\n",
    "\n",
    "It is similar to format method but f-strings are faster"
   ]
  },
  {
   "cell_type": "code",
   "execution_count": 9,
   "metadata": {},
   "outputs": [
    {
     "name": "stdout",
     "output_type": "stream",
     "text": [
      "Ala ma kota, ktory jest (0, 0, 0)\n",
      "ALA ma kota, ktory jest (0, 0, 0)\n",
      "0.0121487999999772\n",
      "0.006808400000011261\n"
     ]
    }
   ],
   "source": [
    "import timeit\n",
    "name = 'Ala'\n",
    "pet = 'kota'\n",
    "color = (0,0,0)\n",
    "\n",
    "print(f'{name} ma {pet}, ktory jest {color}') # string nit to be prefixed with f \n",
    "print(f'{name.upper()} ma {pet}, ktory jest {color}')\n",
    "\n",
    "\n",
    "# timeit.timeit(print('{name} ma {pet}, ktory jest {color}'), number=10000)\n",
    "print(timeit.timeit(\"\"\"\n",
    "name = 'Ala'\n",
    "pet = 'kota'\n",
    "color = (0,0,0)\n",
    "'{} ma {}, który jest {}'.format(name, pet, color)\n",
    "\"\"\",number=10000))\n",
    "\n",
    "print(timeit.timeit(\"\"\"\n",
    "name = 'Ala'\n",
    "pet = 'kota'\n",
    "color = (0,0,0)\n",
    "f'{name} ma {pet}, ktory jest {color}'\n",
    "\"\"\",number=10000))"
   ]
  },
  {
   "cell_type": "markdown",
   "metadata": {},
   "source": [
    "Speed comparision\n",
    "<img src=\"https://cito.github.io/img/f-strings-1.png\">"
   ]
  },
  {
   "cell_type": "markdown",
   "metadata": {},
   "source": [
    "## More about strings\n",
    "\n",
    "In python 3 except f-strings we have:\n",
    " - b-string - which is byte array \n",
    " - u-strings - legacy for unicode in python 2 (it means nothing in p3 here but is allowed)\n",
    " - r-strings - raws tring which disables escaping characters"
   ]
  },
  {
   "cell_type": "code",
   "execution_count": 24,
   "metadata": {},
   "outputs": [
    {
     "name": "stdout",
     "output_type": "stream",
     "text": [
      "ala\tkota\n",
      "ala\\tkota\n"
     ]
    }
   ],
   "source": [
    "# r string behavior\n",
    "print('ala\\tkota')\n",
    "print(r'ala\\tkota')\n"
   ]
  },
  {
   "cell_type": "markdown",
   "metadata": {},
   "source": [
    "## b-strings\n",
    "\n",
    "Firstly, the syntax for bytes literals is largely the same as that for string literals, except that a b prefix is added:\n",
    "\n",
    " - Single quotes: b'still allows embedded \"double\" quotes'\n",
    " - Double quotes: b\"still allows embedded 'single' quotes\".\n",
    " - Triple quoted: b'''3 single quotes''', b\"\"\"3 double quotes\"\"\"\n",
    " \n",
    "Only ASCII characters are permitted in bytes literals (regardless of the declared source code encoding). Any binary values over 127 must be entered into bytes literals using the appropriate escape sequence.\n",
    "\n",
    "We have tow type of bytes representation: \n",
    " - bytes - immutable\n",
    " - bytearray - mutable equivalent "
   ]
  },
  {
   "cell_type": "code",
   "execution_count": 43,
   "metadata": {},
   "outputs": [
    {
     "name": "stdout",
     "output_type": "stream",
     "text": [
      "<class 'bytes'>\n",
      "61\n",
      "61\n",
      "61\n"
     ]
    }
   ],
   "source": [
    "print(type(b'ala'))\n",
    "print(bytearray(b'a').hex())    #  two hexadecimal digits for each byte in the instance\n",
    "print(bytes(b'a').hex())\n",
    "try:\n",
    "    print(bytes('a').hex())                    # we need to set encoding during using unicode string with bytes\n",
    "except:\n",
    "    print(bytes('a', encoding='utf-8').hex())\n",
    "\n",
    "    \n",
    "    #bytes objects has API very similar to string type"
   ]
  }
 ],
 "metadata": {
  "kernelspec": {
   "display_name": "Python 3",
   "language": "python",
   "name": "python3"
  },
  "language_info": {
   "codemirror_mode": {
    "name": "ipython",
    "version": 3
   },
   "file_extension": ".py",
   "mimetype": "text/x-python",
   "name": "python",
   "nbconvert_exporter": "python",
   "pygments_lexer": "ipython3",
   "version": "3.7.0"
  }
 },
 "nbformat": 4,
 "nbformat_minor": 2
}
